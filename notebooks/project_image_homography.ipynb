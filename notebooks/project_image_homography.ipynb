{
 "cells": [
  {
   "cell_type": "code",
   "execution_count": 1,
   "id": "eeae1f10",
   "metadata": {},
   "outputs": [],
   "source": [
    "import os\n",
    "import numpy as np\n",
    "\n",
    "import calibpy.calibration as calib\n",
    "\n",
    "SCREEN_WH = (1920, 1080)\n",
    "FRAME_RATE = 20"
   ]
  },
  {
   "cell_type": "code",
   "execution_count": 2,
   "id": "0410e327",
   "metadata": {},
   "outputs": [
    {
     "name": "stdout",
     "output_type": "stream",
     "text": [
      "179\n"
     ]
    }
   ],
   "source": [
    "# Split video into image frames\n",
    "notebook_path = os.path.dirname(os.path.realpath('__file__'))\n",
    "video_path = os.path.join(notebook_path, '..', 'res/checkerboard.mp4')\n",
    "frames = calib.convert_video_to_frames(video_path, frame_rate=int((1/FRAME_RATE)*1000), save_imgs=False)\n",
    "print(len(frames))"
   ]
  },
  {
   "cell_type": "code",
   "execution_count": 3,
   "id": "03233eed",
   "metadata": {},
   "outputs": [],
   "source": [
    "# Display first frame\n",
    "calib.display_image(frames[0], SCREEN_WH)"
   ]
  },
  {
   "cell_type": "code",
   "execution_count": 4,
   "id": "045f0f02",
   "metadata": {},
   "outputs": [],
   "source": [
    "# Select initial tracking points (minimum of 4 if later DLT) and track them across frames\n",
    "points_frames = calib.track_points_seq(frames, SCREEN_WH)"
   ]
  },
  {
   "cell_type": "code",
   "execution_count": 5,
   "id": "00335227",
   "metadata": {
    "scrolled": true
   },
   "outputs": [],
   "source": [
    "# [Optional] Save video displaying tracked points accross frames\n",
    "track_video_path = os.path.join(notebook_path, '..', 'res/checkerboard_track.mp4')\n",
    "calib.convert_frames_to_video(track_video_path, frames, points_frames, frame_rate=FRAME_RATE)\n",
    "calib.display_video(track_video_path, SCREEN_WH)"
   ]
  },
  {
   "cell_type": "code",
   "execution_count": 6,
   "id": "255f36b4",
   "metadata": {},
   "outputs": [],
   "source": [
    "# Estimate homography 1st frame\n",
    "board_points = calib.generate_homogeneous_board_points()\n",
    "H_0 = calib.estimate_homography(points_frames[0], board_points)"
   ]
  },
  {
   "cell_type": "code",
   "execution_count": 7,
   "id": "015b5036",
   "metadata": {},
   "outputs": [
    {
     "name": "stdout",
     "output_type": "stream",
     "text": [
      "[0.80624973 0.7925582 ]\n"
     ]
    }
   ],
   "source": [
    "# Reproject checkerboard points and calculate XY pixel error 1st frame\n",
    "new_image_points = np.matmul(H_0, board_points.T).T\n",
    "new_image_points = new_image_points[:, 0:2] / new_image_points[:, 2:3]\n",
    "proj_err = np.mean(np.abs(new_image_points-points_frames[0]), axis=0)\n",
    "print(proj_err)"
   ]
  },
  {
   "cell_type": "code",
   "execution_count": 8,
   "id": "7bcaae39",
   "metadata": {},
   "outputs": [],
   "source": [
    "# Estimate homography from video points to projected image dimensions\n",
    "proj_image_path = os.path.join(notebook_path, '..', 'res/portal.png')\n",
    "proj_image = calib.read_image(proj_image_path)\n",
    "image_dims = tuple(proj_image.shape[0:2][::-1])\n",
    "proj_image_coords = calib.generate_eqspaced_image_points(image_dims[0], image_dims[1])\n",
    "homogeneous_points_frame = np.hstack((points_frames[0], np.ones((points_frames[0].shape[0], 1))))\n",
    "Hproj_0 = calib.estimate_homography(proj_image_coords, homogeneous_points_frame)"
   ]
  },
  {
   "cell_type": "code",
   "execution_count": 9,
   "id": "4ada6fdd",
   "metadata": {},
   "outputs": [
    {
     "data": {
      "image/png": "[encoded data removed]",
      "text/plain": [
       "<Figure size 432x288 with 1 Axes>"
      ]
     },
     "metadata": {
      "needs_background": "light"
     },
     "output_type": "display_data"
    }
   ],
   "source": [
    "# Find points that form region of tracked points 1st frame\n",
    "int_points = calib.calculate_interior_points(points_frames[0], plot_hull=True)"
   ]
  },
  {
   "cell_type": "code",
   "execution_count": null,
   "id": "377f1b46",
   "metadata": {},
   "outputs": [],
   "source": [
    "# Project image onto original video 1st frame\n",
    "new_image = calib.project_image(frames[0], proj_image, int_points, Hproj_0)\n",
    "calib.display_image(new_image, SCREEN_WH)"
   ]
  },
  {
   "cell_type": "code",
   "execution_count": null,
   "id": "c628dd67",
   "metadata": {},
   "outputs": [],
   "source": [
    "# [Optional] Save video displaying projected image across frames\n",
    "mod_images = []\n",
    "mod_video_path = os.path.join(notebook_path, '..', 'res/checkerboard_mod.mp4')\n",
    "for idx in range(points_frames.shape[0]):\n",
    "    homogeneous_points_frame = np.hstack((points_frames[idx], np.ones((points_frames[idx].shape[0], 1))))\n",
    "    Hproj = calib.estimate_homography(proj_image_coords, homogeneous_points_frame)\n",
    "    int_points = calib.calculate_interior_points(points_frames[idx], plot_hull=False)\n",
    "    mod_image = calib.project_image(frames[idx], proj_image, int_points, Hproj)\n",
    "    mod_images.append(mod_image)\n",
    "mod_images = np.stack(mod_images)\n",
    "calib.convert_frames_to_video(mod_video_path, mod_images, frame_rate=FRAME_RATE)\n",
    "calib.display_video(mod_video_path, SCREEN_WH)"
   ]
  }
 ],
 "metadata": {
  "kernelspec": {
   "display_name": "calibpy",
   "language": "python",
   "name": "calibpy"
  },
  "language_info": {
   "codemirror_mode": {
    "name": "ipython",
    "version": 3
   },
   "file_extension": ".py",
   "mimetype": "text/x-python",
   "name": "python",
   "nbconvert_exporter": "python",
   "pygments_lexer": "ipython3",
   "version": "3.8.10"
  }
 },
 "nbformat": 4,
 "nbformat_minor": 5
}
