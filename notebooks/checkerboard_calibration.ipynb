{
 "cells": [
  {
   "cell_type": "code",
   "execution_count": 1,
   "id": "eeae1f10",
   "metadata": {},
   "outputs": [],
   "source": [
    "import os\n",
    "\n",
    "import calibpy.calibration as calib\n",
    "\n",
    "SCREEN_WH = (1920, 1080)"
   ]
  },
  {
   "cell_type": "code",
   "execution_count": 7,
   "id": "0410e327",
   "metadata": {},
   "outputs": [
    {
     "name": "stdout",
     "output_type": "stream",
     "text": [
      "179\n"
     ]
    }
   ],
   "source": [
    "# Split video into image frames\n",
    "notebook_path = os.path.dirname(os.path.realpath('__file__'))\n",
    "video_path = os.path.join(notebook_path, '..', 'res/checkerboard.mp4')\n",
    "frames = calib.convert_video_to_frames(video_path, frame_rate=50, save_imgs=False)\n",
    "print(len(frames))"
   ]
  },
  {
   "cell_type": "code",
   "execution_count": 3,
   "id": "03233eed",
   "metadata": {},
   "outputs": [],
   "source": [
    "# Display first frame\n",
    "calib.display_image(frames[0], SCREEN_WH)"
   ]
  },
  {
   "cell_type": "code",
   "execution_count": 8,
   "id": "045f0f02",
   "metadata": {},
   "outputs": [],
   "source": [
    "# Select initial tracking points (minimum of 6 if later PnP algo) and track them across frames\n",
    "points_frames = calib.track_points_seq(frames, SCREEN_WH)"
   ]
  },
  {
   "cell_type": "code",
   "execution_count": 9,
   "id": "00335227",
   "metadata": {
    "scrolled": true
   },
   "outputs": [],
   "source": [
    "# Save to video & display tracked points accross frames\n",
    "track_video_path = os.path.join(notebook_path, '..', 'res/checkerboard_track.mp4')\n",
    "calib.convert_frames_to_video(track_video_path, frames, points_frames)\n",
    "calib.display_video(track_video_path, SCREEN_WH)"
   ]
  },
  {
   "cell_type": "code",
   "execution_count": null,
   "id": "4f947265",
   "metadata": {},
   "outputs": [],
   "source": []
  }
 ],
 "metadata": {
  "kernelspec": {
   "display_name": "calibpy",
   "language": "python",
   "name": "calibpy"
  },
  "language_info": {
   "codemirror_mode": {
    "name": "ipython",
    "version": 3
   },
   "file_extension": ".py",
   "mimetype": "text/x-python",
   "name": "python",
   "nbconvert_exporter": "python",
   "pygments_lexer": "ipython3",
   "version": "3.8.10"
  }
 },
 "nbformat": 4,
 "nbformat_minor": 5
}
